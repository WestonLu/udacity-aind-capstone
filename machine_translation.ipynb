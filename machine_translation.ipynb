{
 "cells": [
  {
   "cell_type": "markdown",
   "metadata": {
    "collapsed": true
   },
   "source": [
    "# Artificial Intelligence Nanodegree\n",
    "## Machine Translation Project\n",
    "In this notebook, sections that end with **'(IMPLEMENTATION)'** in the header indicate that the following blocks of code will require additional functionality which you must provide. Please be sure to read the instructions carefully!\n",
    "\n",
    "## Introduction\n",
    "In this notebook, you will build a deep neural network that functions as part of an end-to-end machine translation pipeline. Your completed pipeline will accept English text as input and return the French translation.\n",
    "\n",
    "- **Preprocess** - You'll convert text to sequence of integers.\n",
    "- **Models** Create models which accepts a sequence of integers as input and returns a probability distribution over possible translations. After learning about the basic types of neural networks that are often used for machine translation, you will engage in your own investigations, to design your own model!\n",
    "- **Prediction** Run the model on English text.\n",
    "\n",
    "## Dataset\n",
    "We begin by investigating the dataset that will be used to train and evaluate your pipeline.  The most common datasets used for machine translation are from [WMT](http://www.statmt.org/).  However, that will take a long time to train a neural network on.  We'll be using a dataset we created for this project that contains a small vocabulary.  You'll be able to train your model in a reasonable time with this dataset.\n",
    "### Load Data\n",
    "The data is located in `data/small_vocab_en` and `data/small_vocab_fr`. The `small_vocab_en` file contains English sentences with their French translations in the `small_vocab_fr` file. Load the English and French data from these files from running the cell below."
   ]
  },
  {
   "cell_type": "code",
   "execution_count": 1,
   "metadata": {},
   "outputs": [
    {
     "name": "stdout",
     "output_type": "stream",
     "text": [
      "Dataset Loaded\n"
     ]
    }
   ],
   "source": [
    "import helper\n",
    "\n",
    "# Load English data\n",
    "english_sentences = helper.load_data('data/small_vocab_en')\n",
    "# Load French data\n",
    "french_sentences = helper.load_data('data/small_vocab_fr')\n",
    "\n",
    "print('Dataset Loaded')"
   ]
  },
  {
   "cell_type": "markdown",
   "metadata": {},
   "source": [
    "### Files\n",
    "Each line in `small_vocab_en` contains an English sentence with the respective translation in each line of `small_vocab_fr`.  View the first two lines from each file."
   ]
  },
  {
   "cell_type": "code",
   "execution_count": 2,
   "metadata": {},
   "outputs": [
    {
     "name": "stdout",
     "output_type": "stream",
     "text": [
      "small_vocab_en Line 1:  new jersey is sometimes quiet during autumn , and it is snowy in april .\n",
      "small_vocab_fr Line 1:  new jersey est parfois calme pendant l' automne , et il est neigeux en avril .\n",
      "small_vocab_en Line 2:  the united states is usually chilly during july , and it is usually freezing in november .\n",
      "small_vocab_fr Line 2:  les 茅tats-unis est g茅n茅ralement froid en juillet , et il g猫le habituellement en novembre .\n"
     ]
    }
   ],
   "source": [
    "for sample_i in range(2):\n",
    "    print('small_vocab_en Line {}:  {}'.format(sample_i + 1, english_sentences[sample_i]))\n",
    "    print('small_vocab_fr Line {}:  {}'.format(sample_i + 1, french_sentences[sample_i]))"
   ]
  },
  {
   "cell_type": "markdown",
   "metadata": {},
   "source": [
    "From looking at the sentences, you can see they have been preprocessed already.  The puncuations have been delimited using spaces. All the text have been converted to lowercase.  This should save you some time, but the text requires more preprocessing.\n",
    "### Vocabulary\n",
    "The complexity of the problem is determined by the complexity of the vocabulary.  A more complex vocabulary is a more complex problem.  Let's look at the complexity of the dataset we'll be working with."
   ]
  },
  {
   "cell_type": "code",
   "execution_count": 3,
   "metadata": {},
   "outputs": [
    {
     "name": "stdout",
     "output_type": "stream",
     "text": [
      "1823250 English words.\n",
      "227 unique English words.\n",
      "10 Most common words in the English dataset:\n",
      "\"is\" \",\" \".\" \"in\" \"it\" \"during\" \"the\" \"but\" \"and\" \"sometimes\"\n",
      "\n",
      "1961295 French words.\n",
      "355 unique French words.\n",
      "10 Most common words in the French dataset:\n",
      "\"est\" \".\" \",\" \"en\" \"il\" \"les\" \"mais\" \"et\" \"la\" \"parfois\"\n"
     ]
    }
   ],
   "source": [
    "import collections\n",
    "\n",
    "english_words_counter = collections.Counter([word for sentence in english_sentences for word in sentence.split()])\n",
    "french_words_counter = collections.Counter([word for sentence in french_sentences for word in sentence.split()])\n",
    "\n",
    "print('{} English words.'.format(len([word for sentence in english_sentences for word in sentence.split()])))\n",
    "print('{} unique English words.'.format(len(english_words_counter)))\n",
    "print('10 Most common words in the English dataset:')\n",
    "print('\"' + '\" \"'.join(list(zip(*english_words_counter.most_common(10)))[0]) + '\"')\n",
    "print()\n",
    "print('{} French words.'.format(len([word for sentence in french_sentences for word in sentence.split()])))\n",
    "print('{} unique French words.'.format(len(french_words_counter)))\n",
    "print('10 Most common words in the French dataset:')\n",
    "print('\"' + '\" \"'.join(list(zip(*french_words_counter.most_common(10)))[0]) + '\"')"
   ]
  },
  {
   "cell_type": "markdown",
   "metadata": {},
   "source": [
    "For comparison, _Alice's Adventures in Wonderland_ contains 2,766 unique words of a total of 15,500 words.\n",
    "## Preprocess\n",
    "For this project, you won't use text data as input to your model. Instead, you'll convert the text into sequences of integers using the following preprocess methods:\n",
    "1. Tokenize the words into ids\n",
    "2. Add padding to make all the sequences the same length.\n",
    "\n",
    "Time to start preprocessing the data...\n",
    "### Tokenize (IMPLEMENTATION)\n",
    "For a neural network to predict on text data, it first has to be turned into data it can understand. Text data like \"dog\" is a sequence of ASCII character encodings.  Since a neural network is a series of multiplication and addition operations, the input data needs to be number(s).\n",
    "\n",
    "We can turn each character into a number or each word into a number.  These are called character and word ids, respectively.  Character ids are used for character level models that generate text predictions for each character.  A word level model uses word ids that generate text predictions for each word.  Word level models tend to learn better, since they are lower in complexity, so we'll use those.\n",
    "\n",
    "Turn each sentence into a sequence of words ids using Keras's [`Tokenizer`](https://keras.io/preprocessing/text/#tokenizer) function. Use this function to tokenize `english_sentences` and `french_sentences` in the cell below.\n",
    "\n",
    "Running the cell will run `tokenize` on sample data and show output for debugging."
   ]
  },
  {
   "cell_type": "code",
   "execution_count": 4,
   "metadata": {},
   "outputs": [
    {
     "name": "stderr",
     "output_type": "stream",
     "text": [
      "Using TensorFlow backend.\n"
     ]
    },
    {
     "name": "stdout",
     "output_type": "stream",
     "text": [
      "{'lexicography': 4, 'over': 5, 'prize': 6, 'a': 1, 'quick': 2, 'jove': 8, 'the': 3, 'my': 9, 'dog': 11, 'is': 12, 'won': 16, 'fox': 13, 'brown': 15, 'jumps': 20, 'of': 18, 'this': 10, 'by': 17, 'sentence': 7, 'lazy': 19, 'study': 14, 'short': 21}\n",
      "\n",
      "Sequence 1 in x\n",
      "  Input:  The quick brown fox jumps over the lazy dog .\n",
      "  Output: [3, 2, 15, 13, 20, 5, 3, 19, 11]\n",
      "Sequence 2 in x\n",
      "  Input:  By Jove , my quick study of lexicography won a prize .\n",
      "  Output: [17, 8, 9, 2, 14, 18, 4, 16, 1, 6]\n",
      "Sequence 3 in x\n",
      "  Input:  This is a short sentence .\n",
      "  Output: [10, 12, 1, 21, 7]\n"
     ]
    }
   ],
   "source": [
    "import project_tests as tests\n",
    "from keras.preprocessing.text import Tokenizer\n",
    "\n",
    "\n",
    "def tokenize(x):\n",
    "    \"\"\"\n",
    "    Tokenize x\n",
    "    :param x: List of sentences/strings to be tokenized\n",
    "    :return: Tuple of (tokenized x data, tokenizer used to tokenize x)\n",
    "    \"\"\"\n",
    "    # TODO: Implement\n",
    "    tokenizer = Tokenizer()\n",
    "    tokenizer.fit_on_texts(x)\n",
    "    return tokenizer.texts_to_sequences(x), tokenizer\n",
    "tests.test_tokenize(tokenize)\n",
    "\n",
    "# Tokenize Example output\n",
    "text_sentences = [\n",
    "    'The quick brown fox jumps over the lazy dog .',\n",
    "    'By Jove , my quick study of lexicography won a prize .',\n",
    "    'This is a short sentence .']\n",
    "text_tokenized, text_tokenizer = tokenize(text_sentences)\n",
    "print(text_tokenizer.word_index)\n",
    "print()\n",
    "for sample_i, (sent, token_sent) in enumerate(zip(text_sentences, text_tokenized)):\n",
    "    print('Sequence {} in x'.format(sample_i + 1))\n",
    "    print('  Input:  {}'.format(sent))\n",
    "    print('  Output: {}'.format(token_sent))"
   ]
  },
  {
   "cell_type": "markdown",
   "metadata": {},
   "source": [
    "### Padding (IMPLEMENTATION)\n",
    "When batching the sequence of word ids together, each sequence needs to be the same length.  Since sentences are dynamic in length, we can add padding to the end of the sequences to make them the same length.\n",
    "\n",
    "Make sure all the English sequences have the same length and all the French sequences have the same length by adding padding to the **end** of each sequence using Keras's [`pad_sequences`](https://keras.io/preprocessing/sequence/#pad_sequences) function."
   ]
  },
  {
   "cell_type": "code",
   "execution_count": 5,
   "metadata": {},
   "outputs": [
    {
     "name": "stdout",
     "output_type": "stream",
     "text": [
      "Sequence 1 in x\n",
      "  Input:  [ 3  2 15 13 20  5  3 19 11]\n",
      "  Output: [ 3  2 15 13 20  5  3 19 11  0]\n",
      "Sequence 2 in x\n",
      "  Input:  [17  8  9  2 14 18  4 16  1  6]\n",
      "  Output: [17  8  9  2 14 18  4 16  1  6]\n",
      "Sequence 3 in x\n",
      "  Input:  [10 12  1 21  7]\n",
      "  Output: [10 12  1 21  7  0  0  0  0  0]\n"
     ]
    }
   ],
   "source": [
    "import numpy as np\n",
    "from keras.preprocessing.sequence import pad_sequences\n",
    "\n",
    "def pad(x, length=None):\n",
    "    \"\"\"\n",
    "    Pad x\n",
    "    :param x: List of sequences.\n",
    "    :param length: Length to pad the sequence to.  If None, use length of longest sequence in x.\n",
    "    :return: Padded numpy array of sequences\n",
    "    \"\"\"\n",
    "    # TODO: Implement\n",
    "    return  pad_sequences(x, maxlen=length, dtype='int32',padding='post', truncating='post', value=0.)\n",
    "tests.test_pad(pad)\n",
    "\n",
    "# Pad Tokenized output\n",
    "test_pad = pad(text_tokenized)\n",
    "for sample_i, (token_sent, pad_sent) in enumerate(zip(text_tokenized, test_pad)):\n",
    "    print('Sequence {} in x'.format(sample_i + 1))\n",
    "    print('  Input:  {}'.format(np.array(token_sent)))\n",
    "    print('  Output: {}'.format(pad_sent))"
   ]
  },
  {
   "cell_type": "markdown",
   "metadata": {},
   "source": [
    "### Preprocess Pipeline\n",
    "Your focus for this project is to build neural network architecture, so we won't ask you to create a preprocess pipeline.  Instead, we've provided you with the implementation of the `preprocess` function."
   ]
  },
  {
   "cell_type": "code",
   "execution_count": 6,
   "metadata": {},
   "outputs": [
    {
     "name": "stdout",
     "output_type": "stream",
     "text": [
      "Data Preprocessed\n"
     ]
    }
   ],
   "source": [
    "def preprocess(x, y):\n",
    "    \"\"\"\n",
    "    Preprocess x and y\n",
    "    :param x: Feature List of sentences\n",
    "    :param y: Label List of sentences\n",
    "    :return: Tuple of (Preprocessed x, Preprocessed y, x tokenizer, y tokenizer)\n",
    "    \"\"\"\n",
    "    preprocess_x, x_tk = tokenize(x)\n",
    "    preprocess_y, y_tk = tokenize(y)\n",
    "\n",
    "    preprocess_x = pad(preprocess_x)\n",
    "    preprocess_y = pad(preprocess_y)\n",
    "\n",
    "    # Keras's sparse_categorical_crossentropy function requires the labels to be in 3 dimensions\n",
    "    preprocess_y = preprocess_y.reshape(*preprocess_y.shape, 1)\n",
    "\n",
    "    return preprocess_x, preprocess_y, x_tk, y_tk\n",
    "\n",
    "preproc_english_sentences, preproc_french_sentences, english_tokenizer, french_tokenizer =\\\n",
    "    preprocess(english_sentences, french_sentences)\n",
    "\n",
    "print('Data Preprocessed')"
   ]
  },
  {
   "cell_type": "markdown",
   "metadata": {},
   "source": [
    "## Models\n",
    "In this section, you will experiment with various neural network architectures.\n",
    "You will begin by training four relatively simple architectures.\n",
    "- Model 1 is a simple RNN\n",
    "- Model 2 is a RNN with Embedding\n",
    "- Model 3 is a Bidirectional RNN\n",
    "- Model 4 is an optional Encoder-Decoder RNN\n",
    "\n",
    "After experimenting with the four simple architectures, you will construct a deeper architecture that is designed to outperform all four models.\n",
    "### Ids Back to Text\n",
    "The neural network will be translating the input to words ids, which isn't the final form we want.  We want the French translation.  The function `logits_to_text` will bridge the gab between the logits from the neural network to the French translation.  You'll be using this function to better understand the output of the neural network."
   ]
  },
  {
   "cell_type": "code",
   "execution_count": 7,
   "metadata": {},
   "outputs": [
    {
     "name": "stdout",
     "output_type": "stream",
     "text": [
      "`logits_to_text` function loaded.\n"
     ]
    }
   ],
   "source": [
    "def logits_to_text(logits, tokenizer):\n",
    "    \"\"\"\n",
    "    Turn logits from a neural network into text using the tokenizer\n",
    "    :param logits: Logits from a neural network\n",
    "    :param tokenizer: Keras Tokenizer fit on the labels\n",
    "    :return: String that represents the text of the logits\n",
    "    \"\"\"\n",
    "    index_to_words = {id: word for word, id in tokenizer.word_index.items()}\n",
    "    index_to_words[0] = '<PAD>'\n",
    "\n",
    "    return ' '.join([index_to_words[prediction] for prediction in np.argmax(logits, 1)])\n",
    "\n",
    "print('`logits_to_text` function loaded.')"
   ]
  },
  {
   "cell_type": "markdown",
   "metadata": {},
   "source": [
    "### Model 1: RNN (IMPLEMENTATION)\n",
    "![RNN](images/rnn.png)\n",
    "A basic RNN model is a good baseline for sequence data.  In this model, you'll build a RNN that translates English to French."
   ]
  },
  {
   "cell_type": "code",
   "execution_count": 8,
   "metadata": {
    "collapsed": true
   },
   "outputs": [],
   "source": [
    "from keras.layers import GRU, Input, Dense, TimeDistributed\n",
    "from keras.models import Model\n",
    "from keras.layers import Activation\n",
    "from keras.optimizers import Adam\n",
    "from keras.losses import sparse_categorical_crossentropy\n",
    "from keras.layers import SimpleRNN\n",
    "from keras_tqdm import TQDMNotebookCallback\n",
    "\n",
    "def simple_model(input_shape, output_sequence_length, english_vocab_size, french_vocab_size):\n",
    "    \"\"\"\n",
    "    Build and train a basic RNN on x and y\n",
    "    :param input_shape: Tuple of input shape\n",
    "    :param output_sequence_length: Length of output sequence\n",
    "    :param english_vocab_size: Number of unique English words in the dataset\n",
    "    :param french_vocab_size: Number of unique French words in the dataset\n",
    "    :return: Keras model built, but not trained\n",
    "    \"\"\"\n",
    "    # TODO: Build the layers\n",
    "    main_inputs = Input(shape=input_shape[1:3]) \n",
    "    x = GRU(units=64,return_sequences=True)(main_inputs)\n",
    "    main_outputs = TimeDistributed(Dense(french_vocab_size,activation='softmax'))(x)\n",
    "    model = Model(inputs=main_inputs, outputs=main_outputs)\n",
    "    \n",
    "    learning_rate = 0.01\n",
    "    model.compile(loss=sparse_categorical_crossentropy,\n",
    "                  optimizer=Adam(learning_rate),\n",
    "                  metrics=['accuracy'])\n",
    "    return model\n",
    "# tests.test_simple_model(simple_model)\n",
    "\n",
    "\n",
    "# Reshaping the input to work with a basic RNN\n",
    "tmp_x = pad(preproc_english_sentences, preproc_french_sentences.shape[1])\n",
    "tmp_x = tmp_x.reshape((-1, preproc_french_sentences.shape[-2], 1))\n",
    "\n",
    "# Train the neural network\n",
    "simple_rnn_model = simple_model(\n",
    "    tmp_x.shape,\n",
    "    preproc_french_sentences.shape[1],\n",
    "    len(english_tokenizer.word_index)+1,\n",
    "    len(french_tokenizer.word_index)+1)\n",
    "# simple_rnn_model.fit(tmp_x, preproc_french_sentences, batch_size=1024, epochs=10, validation_split=0.2)\n",
    "\n",
    "# # Print prediction(s)\n",
    "# print(logits_to_text(simple_rnn_model.predict(tmp_x[:1])[0], french_tokenizer))"
   ]
  },
  {
   "cell_type": "code",
   "execution_count": 9,
   "metadata": {},
   "outputs": [
    {
     "name": "stdout",
     "output_type": "stream",
     "text": [
      "_________________________________________________________________\n",
      "Layer (type)                 Output Shape              Param #   \n",
      "=================================================================\n",
      "input_1 (InputLayer)         (None, 21, 1)             0         \n",
      "_________________________________________________________________\n",
      "gru_1 (GRU)                  (None, 21, 64)            12672     \n",
      "_________________________________________________________________\n",
      "time_distributed_1 (TimeDist (None, 21, 346)           22490     \n",
      "=================================================================\n",
      "Total params: 35,162\n",
      "Trainable params: 35,162\n",
      "Non-trainable params: 0\n",
      "_________________________________________________________________\n"
     ]
    }
   ],
   "source": [
    "simple_rnn_model.summary()"
   ]
  },
  {
   "cell_type": "code",
   "execution_count": 12,
   "metadata": {
    "scrolled": true
   },
   "outputs": [
    {
     "name": "stdout",
     "output_type": "stream",
     "text": [
      "Train on 110288 samples, validate on 27573 samples\n",
      "Epoch 1/10\n",
      "4s - loss: 1.1994 - acc: 0.6530 - val_loss: 1.1729 - val_acc: 0.6509\n",
      "Epoch 2/10\n",
      "4s - loss: 1.1571 - acc: 0.6586 - val_loss: 1.1496 - val_acc: 0.6621\n",
      "Epoch 3/10\n",
      "4s - loss: 1.1251 - acc: 0.6626 - val_loss: 1.1071 - val_acc: 0.6675\n",
      "Epoch 4/10\n",
      "4s - loss: 1.0962 - acc: 0.6682 - val_loss: 1.0957 - val_acc: 0.6672\n",
      "Epoch 5/10\n",
      "4s - loss: 1.0768 - acc: 0.6726 - val_loss: 1.0633 - val_acc: 0.6764\n",
      "Epoch 6/10\n",
      "5s - loss: 1.0567 - acc: 0.6780 - val_loss: 1.0444 - val_acc: 0.6887\n",
      "Epoch 7/10\n",
      "4s - loss: 1.0394 - acc: 0.6829 - val_loss: 1.0270 - val_acc: 0.6912\n",
      "Epoch 8/10\n",
      "4s - loss: 1.0244 - acc: 0.6876 - val_loss: 1.0237 - val_acc: 0.6786\n",
      "Epoch 9/10\n",
      "4s - loss: 1.0085 - acc: 0.6924 - val_loss: 1.0022 - val_acc: 0.6921\n",
      "Epoch 10/10\n",
      "4s - loss: 0.9936 - acc: 0.6970 - val_loss: 0.9802 - val_acc: 0.7056\n",
      "new jersey est parfois calme en mois de il et il en en <PAD> <PAD> <PAD> <PAD> <PAD> <PAD> <PAD> <PAD>\n"
     ]
    }
   ],
   "source": [
    "simple_rnn_model.fit(tmp_x, preproc_french_sentences, batch_size=1024, epochs=10, validation_split=0.2,verbose=2)\n",
    "# Print prediction(s)\n",
    "print(logits_to_text(simple_rnn_model.predict(tmp_x[:1])[0], french_tokenizer))"
   ]
  },
  {
   "cell_type": "markdown",
   "metadata": {},
   "source": [
    "### Model 2: Embedding (IMPLEMENTATION)\n",
    "![RNN](images/embedding.png)\n",
    "You've turned the words into ids, but there's a better representation of a word.  This is called word embeddings.  An embedding is a vector representation of the word that is close to similar words in n-dimensional space, where the n represents the size of the embedding vectors.\n",
    "\n",
    "In this model, you'll create a RNN model using embedding."
   ]
  },
  {
   "cell_type": "code",
   "execution_count": 14,
   "metadata": {},
   "outputs": [
    {
     "name": "stdout",
     "output_type": "stream",
     "text": [
      "_________________________________________________________________\n",
      "Layer (type)                 Output Shape              Param #   \n",
      "=================================================================\n",
      "input_5 (InputLayer)         (None, 21)                0         \n",
      "_________________________________________________________________\n",
      "embedding_4 (Embedding)      (None, 21, 16)            3200      \n",
      "_________________________________________________________________\n",
      "gru_5 (GRU)                  (None, 21, 64)            15552     \n",
      "_________________________________________________________________\n",
      "time_distributed_5 (TimeDist (None, 21, 346)           22490     \n",
      "=================================================================\n",
      "Total params: 41,242\n",
      "Trainable params: 41,242\n",
      "Non-trainable params: 0\n",
      "_________________________________________________________________\n",
      "Train on 110288 samples, validate on 27573 samples\n",
      "Epoch 1/10\n",
      "6s - loss: 2.6588 - acc: 0.4695 - val_loss: 1.6762 - val_acc: 0.5873\n",
      "Epoch 2/10\n",
      "5s - loss: 1.1866 - acc: 0.6993 - val_loss: 0.8418 - val_acc: 0.7734\n",
      "Epoch 3/10\n",
      "5s - loss: 0.6898 - acc: 0.8065 - val_loss: 0.5731 - val_acc: 0.8327\n",
      "Epoch 4/10\n",
      "5s - loss: 0.5127 - acc: 0.8498 - val_loss: 0.4600 - val_acc: 0.8621\n",
      "Epoch 5/10\n",
      "5s - loss: 0.4313 - acc: 0.8713 - val_loss: 0.3999 - val_acc: 0.8816\n",
      "Epoch 6/10\n",
      "5s - loss: 0.3772 - acc: 0.8868 - val_loss: 0.3608 - val_acc: 0.8912\n",
      "Epoch 7/10\n",
      "5s - loss: 0.3445 - acc: 0.8949 - val_loss: 0.3356 - val_acc: 0.8976\n",
      "Epoch 8/10\n",
      "5s - loss: 0.3204 - acc: 0.9008 - val_loss: 0.3162 - val_acc: 0.9013\n",
      "Epoch 9/10\n",
      "5s - loss: 0.3057 - acc: 0.9044 - val_loss: 0.2993 - val_acc: 0.9070\n",
      "Epoch 10/10\n",
      "5s - loss: 0.2933 - acc: 0.9082 - val_loss: 0.2931 - val_acc: 0.9075\n",
      "new jersey est parfois calme au l' et l' automne est est avril avril <PAD> <PAD> <PAD> <PAD> <PAD> <PAD> <PAD>\n"
     ]
    }
   ],
   "source": [
    "from keras.layers.embeddings import Embedding\n",
    "\n",
    "\n",
    "def embed_model(input_shape, output_sequence_length, english_vocab_size, french_vocab_size):\n",
    "    \"\"\"\n",
    "    Build and train a RNN model using word embedding on x and y\n",
    "    :param input_shape: Tuple of input shape\n",
    "    :param output_sequence_length: Length of output sequence\n",
    "    :param english_vocab_size: Number of unique English words in the dataset\n",
    "    :param french_vocab_size: Number of unique French words in the dataset\n",
    "    :return: Keras model built, but not trained\n",
    "    \"\"\"\n",
    "    # TODO: Implement\n",
    "\n",
    "    main_inputs = Input(shape=input_shape[1:3]) \n",
    "    x = Embedding(english_vocab_size, 16)(main_inputs)\n",
    "    x = GRU(units=64,return_sequences=True)(x)\n",
    "    main_outputs = TimeDistributed(Dense(french_vocab_size,activation='softmax'))(x)\n",
    "    model = Model(inputs=main_inputs, outputs=main_outputs)\n",
    "    \n",
    "    learning_rate = 0.01\n",
    "    model.compile(loss=sparse_categorical_crossentropy,\n",
    "                  optimizer=Adam(learning_rate),\n",
    "                  metrics=['accuracy'])\n",
    "    return model\n",
    "tests.test_embed_model(embed_model)\n",
    "\n",
    "\n",
    "# TODO: Reshape the input\n",
    "tmp_x = pad(preproc_english_sentences, preproc_french_sentences.shape[1])\n",
    "tmp_x = tmp_x.reshape((-1, preproc_french_sentences.shape[-2],))\n",
    "# TODO: Train the neural network\n",
    "embed_rnn_model = embed_model(\n",
    "    tmp_x.shape,\n",
    "    preproc_french_sentences.shape[1],\n",
    "    len(english_tokenizer.word_index)+1,\n",
    "    len(french_tokenizer.word_index)+1)\n",
    "embed_rnn_model.summary()\n",
    "\n",
    "embed_rnn_model.fit(tmp_x, preproc_french_sentences, batch_size=1024, epochs=10, validation_split=0.2,verbose=2)\n",
    "# TODO: Print prediction(s)\n",
    "print(logits_to_text(embed_rnn_model.predict(tmp_x[:1])[0], french_tokenizer))\n"
   ]
  },
  {
   "cell_type": "markdown",
   "metadata": {},
   "source": [
    "### Model 3: Bidirectional RNNs (IMPLEMENTATION)\n",
    "![RNN](images/bidirectional.png)\n",
    "One restriction of a RNN is that it can't see the future input, only the past.  This is where bidirectional recurrent neural networks come in.  They are able to see the future data."
   ]
  },
  {
   "cell_type": "code",
   "execution_count": 16,
   "metadata": {},
   "outputs": [
    {
     "name": "stdout",
     "output_type": "stream",
     "text": [
      "_________________________________________________________________\n",
      "Layer (type)                 Output Shape              Param #   \n",
      "=================================================================\n",
      "input_9 (InputLayer)         (None, 21, 1)             0         \n",
      "_________________________________________________________________\n",
      "bidirectional_4 (Bidirection (None, 21, 128)           25344     \n",
      "_________________________________________________________________\n",
      "time_distributed_9 (TimeDist (None, 21, 346)           44634     \n",
      "=================================================================\n",
      "Total params: 69,978\n",
      "Trainable params: 69,978\n",
      "Non-trainable params: 0\n",
      "_________________________________________________________________\n",
      "Train on 110288 samples, validate on 27573 samples\n",
      "Epoch 1/10\n",
      "10s - loss: 1.8338 - acc: 0.5781 - val_loss: 1.2817 - val_acc: 0.6460\n",
      "Epoch 2/10\n",
      "8s - loss: 1.1816 - acc: 0.6606 - val_loss: 1.1065 - val_acc: 0.6712\n",
      "Epoch 3/10\n",
      "8s - loss: 1.0636 - acc: 0.6771 - val_loss: 1.0269 - val_acc: 0.6802\n",
      "Epoch 4/10\n",
      "8s - loss: 1.0024 - acc: 0.6854 - val_loss: 0.9787 - val_acc: 0.6883\n",
      "Epoch 5/10\n",
      "8s - loss: 0.9653 - acc: 0.6911 - val_loss: 0.9454 - val_acc: 0.6947\n",
      "Epoch 6/10\n",
      "8s - loss: 0.9321 - acc: 0.6980 - val_loss: 0.9226 - val_acc: 0.7025\n",
      "Epoch 7/10\n",
      "8s - loss: 0.9072 - acc: 0.7042 - val_loss: 0.8996 - val_acc: 0.7079\n",
      "Epoch 8/10\n",
      "8s - loss: 0.8842 - acc: 0.7108 - val_loss: 0.8737 - val_acc: 0.7155\n",
      "Epoch 9/10\n",
      "8s - loss: 0.8704 - acc: 0.7133 - val_loss: 0.8566 - val_acc: 0.7188\n",
      "Epoch 10/10\n",
      "8s - loss: 0.8521 - acc: 0.7188 - val_loss: 0.8530 - val_acc: 0.7196\n",
      "new jersey est parfois calme au mois et il et il en en <PAD> <PAD> <PAD> <PAD> <PAD> <PAD> <PAD> <PAD>\n"
     ]
    }
   ],
   "source": [
    "from keras.layers import Bidirectional\n",
    "\n",
    "\n",
    "def bd_model(input_shape, output_sequence_length, english_vocab_size, french_vocab_size):\n",
    "    \"\"\"\n",
    "    Build and train a bidirectional RNN model on x and y\n",
    "    :param input_shape: Tuple of input shape\n",
    "    :param output_sequence_length: Length of output sequence\n",
    "    :param english_vocab_size: Number of unique English words in the dataset\n",
    "    :param french_vocab_size: Number of unique French words in the dataset\n",
    "    :return: Keras model built, but not trained\n",
    "    \"\"\"\n",
    "    # TODO: Implement\n",
    "    main_inputs = Input(shape=input_shape[1:3])\n",
    "    x = Bidirectional(GRU(units=64,return_sequences=True))(main_inputs)\n",
    "    main_outputs = TimeDistributed(Dense(french_vocab_size,activation='softmax'))(x)\n",
    "    model = Model(inputs=main_inputs, outputs=main_outputs)\n",
    "    \n",
    "    learning_rate = 0.01\n",
    "    model.compile(loss=sparse_categorical_crossentropy,\n",
    "                  optimizer=Adam(learning_rate),\n",
    "                  metrics=['accuracy'])\n",
    "    return model\n",
    "\n",
    "tests.test_bd_model(bd_model)\n",
    "\n",
    "tmp_x = pad(preproc_english_sentences, preproc_french_sentences.shape[1])\n",
    "tmp_x = tmp_x.reshape((-1, preproc_french_sentences.shape[-2],1))\n",
    "# TODO: Train and Print prediction(s)\n",
    "bd_rnn_model = bd_model(\n",
    "    tmp_x.shape,\n",
    "    preproc_french_sentences.shape[1],\n",
    "    len(english_tokenizer.word_index)+1,\n",
    "    len(french_tokenizer.word_index)+1)\n",
    "bd_rnn_model.summary()\n",
    "bd_rnn_model.fit(tmp_x, preproc_french_sentences, batch_size=1024, epochs=10, validation_split=0.2,verbose=2)\n",
    "# TODO: Print prediction(s)\n",
    "print(logits_to_text(bd_rnn_model.predict(tmp_x[:1])[0], french_tokenizer))"
   ]
  },
  {
   "cell_type": "markdown",
   "metadata": {},
   "source": [
    "### Model 4: Encoder-Decoder (OPTIONAL)\n",
    "Time to look at encoder-decoder models.  This model is made up of an encoder and decoder. The encoder creates a matrix representation of the sentence.  The decoder takes this matrix as input and predicts the translation as output.\n",
    "\n",
    "Create an encoder-decoder model in the cell below."
   ]
  },
  {
   "cell_type": "code",
   "execution_count": 19,
   "metadata": {
    "scrolled": true
   },
   "outputs": [
    {
     "name": "stdout",
     "output_type": "stream",
     "text": [
      "_________________________________________________________________\n",
      "Layer (type)                 Output Shape              Param #   \n",
      "=================================================================\n",
      "input_13 (InputLayer)        (None, 21, 1)             0         \n",
      "_________________________________________________________________\n",
      "gru_16 (GRU)                 (None, 64)                12672     \n",
      "_________________________________________________________________\n",
      "repeat_vector_4 (RepeatVecto (None, 21, 64)            0         \n",
      "_________________________________________________________________\n",
      "gru_17 (GRU)                 (None, 21, 64)            24768     \n",
      "_________________________________________________________________\n",
      "time_distributed_13 (TimeDis (None, 21, 346)           22490     \n",
      "=================================================================\n",
      "Total params: 59,930\n",
      "Trainable params: 59,930\n",
      "Non-trainable params: 0\n",
      "_________________________________________________________________\n",
      "Train on 110288 samples, validate on 27573 samples\n",
      "Epoch 1/10\n",
      "12s - loss: 2.8149 - acc: 0.4416 - val_loss: 2.3988 - val_acc: 0.4711\n",
      "Epoch 2/10\n",
      "8s - loss: 2.2025 - acc: 0.5065 - val_loss: 2.0264 - val_acc: 0.5316\n",
      "Epoch 3/10\n",
      "8s - loss: 1.9030 - acc: 0.5367 - val_loss: 1.7811 - val_acc: 0.5528\n",
      "Epoch 4/10\n",
      "8s - loss: 1.7048 - acc: 0.5574 - val_loss: 1.6447 - val_acc: 0.5659\n",
      "Epoch 5/10\n",
      "8s - loss: 1.6165 - acc: 0.5716 - val_loss: 1.5718 - val_acc: 0.5841\n",
      "Epoch 6/10\n",
      "8s - loss: 1.5549 - acc: 0.5840 - val_loss: 1.5271 - val_acc: 0.5831\n",
      "Epoch 7/10\n",
      "8s - loss: 1.4993 - acc: 0.5931 - val_loss: 1.4740 - val_acc: 0.5993\n",
      "Epoch 8/10\n",
      "8s - loss: 1.4593 - acc: 0.6008 - val_loss: 1.4760 - val_acc: 0.6001\n",
      "Epoch 9/10\n",
      "8s - loss: 1.4239 - acc: 0.6088 - val_loss: 1.3998 - val_acc: 0.6152\n",
      "Epoch 10/10\n",
      "8s - loss: 1.3956 - acc: 0.6135 - val_loss: 1.4021 - val_acc: 0.6069\n",
      "new jersey est jamais agr茅able en mois et il est est est en <PAD> <PAD> <PAD> <PAD> <PAD> <PAD> <PAD> <PAD>\n"
     ]
    }
   ],
   "source": [
    "from keras.layers import RepeatVector\n",
    "from keras.layers import GRU, Input, Dense, TimeDistributed\n",
    "from keras.models import Model\n",
    "from keras.layers import Activation\n",
    "from keras.optimizers import Adam\n",
    "from keras.losses import sparse_categorical_crossentropy\n",
    "from keras.layers import Bidirectional\n",
    "from keras.layers.embeddings import Embedding\n",
    "\n",
    "def encdec_model(input_shape, output_sequence_length, english_vocab_size, french_vocab_size):\n",
    "    \"\"\"\n",
    "    Build and train an encoder-decoder model on x and y\n",
    "    :param input_shape: Tuple of input shape\n",
    "    :param output_sequence_length: Length of output sequence\n",
    "    :param english_vocab_size: Number of unique English words in the dataset\n",
    "    :param french_vocab_size: Number of unique French words in the dataset\n",
    "    :return: Keras model built, but not trained\n",
    "    \"\"\"\n",
    "    # OPTIONAL: Implement \n",
    "    main_inputs = Input(shape=input_shape[1:3])\n",
    "    encoded = GRU(units=64)(main_inputs)\n",
    "    decoded = RepeatVector(output_sequence_length)(encoded)\n",
    "    decoded = GRU(64, return_sequences=True)(decoded)\n",
    "    main_outputs = TimeDistributed(Dense(french_vocab_size,activation='softmax'))(decoded)\n",
    "    model = Model(inputs=main_inputs, outputs=main_outputs)\n",
    "    \n",
    "    learning_rate = 0.01\n",
    "    model.compile(loss=sparse_categorical_crossentropy,\n",
    "                  optimizer=Adam(learning_rate),\n",
    "                  metrics=['accuracy'])\n",
    "    \n",
    "    learning_rate = 0.01\n",
    "    model.compile(loss=sparse_categorical_crossentropy,\n",
    "                  optimizer=Adam(learning_rate),\n",
    "                  metrics=['accuracy'])\n",
    "    return model\n",
    "\n",
    "tests.test_encdec_model(encdec_model)\n",
    "\n",
    "\n",
    "tmp_x = pad(preproc_english_sentences, preproc_french_sentences.shape[1])\n",
    "tmp_x = tmp_x.reshape((-1, preproc_french_sentences.shape[-2],1))\n",
    "# TODO: Train and Print prediction(s)\n",
    "encdec_rnn_model = encdec_model(\n",
    "    tmp_x.shape,\n",
    "    preproc_french_sentences.shape[1],\n",
    "    len(english_tokenizer.word_index)+1,\n",
    "    len(french_tokenizer.word_index)+1)\n",
    "encdec_rnn_model.summary()\n",
    "encdec_rnn_model.fit(tmp_x, preproc_french_sentences, batch_size=1024, epochs=10, validation_split=0.2,verbose=2)\n",
    "# TODO: Print prediction(s)\n",
    "print(logits_to_text(encdec_rnn_model.predict(tmp_x[:1])[0], french_tokenizer))"
   ]
  },
  {
   "cell_type": "markdown",
   "metadata": {},
   "source": [
    "### Model 5: Custom (IMPLEMENTATION)\n",
    "Use everything you learned from the previous models to create a model that incorporates embedding and a bidirectional rnn into one model."
   ]
  },
  {
   "cell_type": "code",
   "execution_count": 51,
   "metadata": {},
   "outputs": [
    {
     "name": "stdout",
     "output_type": "stream",
     "text": [
      "_________________________________________________________________\n",
      "Layer (type)                 Output Shape              Param #   \n",
      "=================================================================\n",
      "input_39 (InputLayer)        (None, 15)                0         \n",
      "_________________________________________________________________\n",
      "embedding_26 (Embedding)     (None, 15, 16)            3200      \n",
      "_________________________________________________________________\n",
      "bidirectional_47 (Bidirectio (None, 128)               31104     \n",
      "_________________________________________________________________\n",
      "repeat_vector_26 (RepeatVect (None, 21, 128)           0         \n",
      "_________________________________________________________________\n",
      "bidirectional_48 (Bidirectio (None, 21, 128)           74112     \n",
      "_________________________________________________________________\n",
      "time_distributed_35 (TimeDis (None, 21, 346)           44634     \n",
      "=================================================================\n",
      "Total params: 153,050\n",
      "Trainable params: 153,050\n",
      "Non-trainable params: 0\n",
      "_________________________________________________________________\n",
      "Train on 110288 samples, validate on 27573 samples\n",
      "Epoch 1/30\n",
      "26s - loss: 2.4726 - acc: 0.4725 - val_loss: 1.7261 - val_acc: 0.5715\n",
      "Epoch 2/30\n",
      "15s - loss: 1.4644 - acc: 0.6153 - val_loss: 1.2296 - val_acc: 0.6638\n",
      "Epoch 3/30\n",
      "15s - loss: 1.0757 - acc: 0.7015 - val_loss: 0.9493 - val_acc: 0.7293\n",
      "Epoch 4/30\n",
      "15s - loss: 0.8684 - acc: 0.7463 - val_loss: 0.7810 - val_acc: 0.7683\n",
      "Epoch 5/30\n",
      "15s - loss: 0.7129 - acc: 0.7885 - val_loss: 0.6345 - val_acc: 0.8114\n",
      "Epoch 6/30\n",
      "15s - loss: 0.5835 - acc: 0.8262 - val_loss: 0.5248 - val_acc: 0.8425\n",
      "Epoch 7/30\n",
      "15s - loss: 0.4638 - acc: 0.8616 - val_loss: 0.4097 - val_acc: 0.8817\n",
      "Epoch 8/30\n",
      "16s - loss: 0.3604 - acc: 0.8976 - val_loss: 0.3188 - val_acc: 0.9120\n",
      "Epoch 9/30\n",
      "15s - loss: 0.2879 - acc: 0.9207 - val_loss: 0.2800 - val_acc: 0.9224\n",
      "Epoch 10/30\n",
      "15s - loss: 0.2401 - acc: 0.9347 - val_loss: 0.2494 - val_acc: 0.9311\n",
      "Epoch 11/30\n",
      "16s - loss: 0.2029 - acc: 0.9451 - val_loss: 0.2021 - val_acc: 0.9451\n",
      "Epoch 12/30\n",
      "15s - loss: 0.1924 - acc: 0.9470 - val_loss: 0.1953 - val_acc: 0.9473\n",
      "Epoch 13/30\n",
      "15s - loss: 0.1834 - acc: 0.9494 - val_loss: 0.1915 - val_acc: 0.9472\n",
      "Epoch 14/30\n",
      "15s - loss: 0.1615 - acc: 0.9552 - val_loss: 0.1584 - val_acc: 0.9558\n",
      "Epoch 15/30\n",
      "15s - loss: 0.1469 - acc: 0.9592 - val_loss: 0.1435 - val_acc: 0.9600\n",
      "Epoch 16/30\n",
      "15s - loss: 0.1353 - acc: 0.9618 - val_loss: 0.1566 - val_acc: 0.9560\n",
      "Epoch 17/30\n",
      "15s - loss: 0.1424 - acc: 0.9598 - val_loss: 0.1402 - val_acc: 0.9608\n",
      "Epoch 18/30\n",
      "15s - loss: 0.1297 - acc: 0.9632 - val_loss: 0.1731 - val_acc: 0.9505\n",
      "Epoch 19/30\n",
      "15s - loss: 0.1301 - acc: 0.9627 - val_loss: 0.1394 - val_acc: 0.9603\n",
      "Epoch 20/30\n",
      "15s - loss: 0.1132 - acc: 0.9676 - val_loss: 0.1257 - val_acc: 0.9642\n",
      "Epoch 21/30\n",
      "15s - loss: 0.1154 - acc: 0.9673 - val_loss: 0.1455 - val_acc: 0.9594\n",
      "Epoch 22/30\n",
      "15s - loss: 0.1429 - acc: 0.9592 - val_loss: 0.1438 - val_acc: 0.9592\n",
      "Epoch 23/30\n",
      "15s - loss: 0.1326 - acc: 0.9616 - val_loss: 0.1640 - val_acc: 0.9548\n",
      "Epoch 24/30\n",
      "15s - loss: 0.1186 - acc: 0.9659 - val_loss: 0.1087 - val_acc: 0.9688\n",
      "Epoch 25/30\n",
      "15s - loss: 0.0947 - acc: 0.9726 - val_loss: 0.1014 - val_acc: 0.9710\n",
      "Epoch 26/30\n",
      "15s - loss: 0.0983 - acc: 0.9717 - val_loss: 0.2311 - val_acc: 0.9340\n",
      "Epoch 27/30\n",
      "15s - loss: 0.1509 - acc: 0.9568 - val_loss: 0.1803 - val_acc: 0.9477\n",
      "Epoch 28/30\n",
      "15s - loss: 0.1117 - acc: 0.9675 - val_loss: 0.1123 - val_acc: 0.9686\n",
      "Epoch 29/30\n",
      "15s - loss: 0.0947 - acc: 0.9728 - val_loss: 0.1511 - val_acc: 0.9568\n",
      "Epoch 30/30\n",
      "15s - loss: 0.1185 - acc: 0.9657 - val_loss: 0.1504 - val_acc: 0.9585\n"
     ]
    },
    {
     "data": {
      "text/plain": [
       "<keras.callbacks.History at 0x2a4c42f5668>"
      ]
     },
     "execution_count": 51,
     "metadata": {},
     "output_type": "execute_result"
    }
   ],
   "source": [
    "from keras.layers import RepeatVector\n",
    "from keras.layers import GRU, Input, Dense, TimeDistributed\n",
    "from keras.models import Model\n",
    "from keras.layers import Activation\n",
    "from keras.optimizers import Adam\n",
    "from keras.losses import sparse_categorical_crossentropy\n",
    "from keras.layers.embeddings import Embedding\n",
    "from keras_tqdm import TQDMNotebookCallback\n",
    "\n",
    "\n",
    "def model_final(input_shape, output_sequence_length, english_vocab_size, french_vocab_size):\n",
    "    \"\"\"\n",
    "    Build and train a model that incorporates embedding, encoder-decoder, and bidirectional RNN on x and y\n",
    "    :param input_shape: Tuple of input shape\n",
    "    :param output_sequence_length: Length of output sequence\n",
    "    :param english_vocab_size: Number of unique English words in the dataset\n",
    "    :param french_vocab_size: Number of unique French words in the dataset\n",
    "    :return: Keras model built, but not trained\n",
    "    \"\"\"\n",
    "    main_inputs = Input(shape=input_shape[1:3])\n",
    "    x = Embedding(english_vocab_size, 16)(main_inputs)\n",
    "    encoded = Bidirectional(GRU(units=64))(x)\n",
    "    decoded = RepeatVector(output_sequence_length)(encoded)\n",
    "    decoded = Bidirectional(GRU(64, return_sequences=True))(decoded)\n",
    "    main_outputs = TimeDistributed(Dense(french_vocab_size,activation='softmax'))(decoded)\n",
    "    model = Model(inputs=main_inputs, outputs=main_outputs)\n",
    "    \n",
    "    learning_rate = 0.01\n",
    "    model.compile(loss=sparse_categorical_crossentropy,\n",
    "                  optimizer=Adam(learning_rate),\n",
    "                  metrics=['accuracy'])\n",
    "    return model\n",
    "\n",
    "tests.test_model_final(model_final)\n",
    "\n",
    "tmp_x = pad(preproc_english_sentences, preproc_english_sentences.shape[1])\n",
    "tmp_x = tmp_x.reshape((-1, preproc_english_sentences.shape[1]))\n",
    "# Train and Print prediction(s)\n",
    "final_rnn_model = model_final(\n",
    "    tmp_x.shape,\n",
    "    preproc_french_sentences.shape[1],\n",
    "    len(english_tokenizer.word_index)+1,\n",
    "    len(french_tokenizer.word_index)+1)\n",
    "final_rnn_model.summary()\n",
    "final_rnn_model.fit(tmp_x, preproc_french_sentences, batch_size=1024, epochs=30, validation_split=0.2,verbose=2)\n"
   ]
  },
  {
   "cell_type": "markdown",
   "metadata": {},
   "source": [
    "## Prediction (IMPLEMENTATION)"
   ]
  },
  {
   "cell_type": "code",
   "execution_count": 52,
   "metadata": {},
   "outputs": [
    {
     "name": "stdout",
     "output_type": "stream",
     "text": [
      "Sample 1:\n",
      "il a vu un vieux camion jaune <PAD> <PAD> <PAD> <PAD> <PAD> <PAD> <PAD> <PAD> <PAD> <PAD> <PAD> <PAD> <PAD> <PAD>\n",
      "Il a vu un vieux camion jaune\n",
      "Sample 2:\n",
      "new jersey est parfois calme pendant l' automne et il est neigeux en avril <PAD> <PAD> <PAD> <PAD> <PAD> <PAD> <PAD>\n",
      "new jersey est parfois calme pendant l' automne et il est neigeux en avril <PAD> <PAD> <PAD> <PAD> <PAD> <PAD> <PAD>\n"
     ]
    }
   ],
   "source": [
    "import numpy as np\n",
    "from keras.preprocessing.sequence import pad_sequences\n",
    "\n",
    "\n",
    "def final_predictions(x, y, x_tk, y_tk):\n",
    "    \"\"\"\n",
    "    Gets predictions using the final model\n",
    "    :param x: Preprocessed English data\n",
    "    :param y: Preprocessed French data\n",
    "    :param x_tk: English tokenizer\n",
    "    :param y_tk: French tokenizer\n",
    "    \"\"\"\n",
    "    # TODO: Train neural network using model_final\n",
    "    model = final_rnn_model\n",
    "\n",
    "    \n",
    "    ## DON'T EDIT ANYTHING BELOW THIS LINE\n",
    "    y_id_to_word = {value: key for key, value in y_tk.word_index.items()}\n",
    "    y_id_to_word[0] = '<PAD>'\n",
    "\n",
    "    sentence = 'he saw a old yellow truck'\n",
    "    sentence = [x_tk.word_index[word] for word in sentence.split()]\n",
    "    sentence = pad_sequences([sentence], maxlen=x.shape[-1], padding='post')\n",
    "    sentences = np.array([sentence[0], x[0]])\n",
    "    predictions = model.predict(sentences, len(sentences))\n",
    "\n",
    "    print('Sample 1:')\n",
    "    print(' '.join([y_id_to_word[np.argmax(x)] for x in predictions[0]]))\n",
    "    print('Il a vu un vieux camion jaune')\n",
    "    print('Sample 2:')\n",
    "    print(' '.join([y_id_to_word[np.argmax(x)] for x in predictions[1]]))\n",
    "    print(' '.join([y_id_to_word[np.max(x)] for x in y[0]]))\n",
    "\n",
    "\n",
    "final_predictions(preproc_english_sentences, preproc_french_sentences, english_tokenizer, french_tokenizer)"
   ]
  },
  {
   "cell_type": "markdown",
   "metadata": {},
   "source": [
    "## Submission\n",
    "When you are ready to submit your project, do the following steps:\n",
    "1. Ensure you pass all points on the [rubric](https://review.udacity.com/#!/rubrics/1004/view).\n",
    "2. Submit the following in a zip file.\n",
    "  - `helper.py`\n",
    "  - `machine_translation.ipynb`\n",
    "  - `machine_translation.html`\n",
    "    - You can export the notebook by navigating to **File -> Download as -> HTML (.html)**."
   ]
  }
 ],
 "metadata": {
  "kernelspec": {
   "display_name": "Python (tensorflowenv)",
   "language": "python",
   "name": "tensorflowenv"
  },
  "language_info": {
   "codemirror_mode": {
    "name": "ipython",
    "version": 3
   },
   "file_extension": ".py",
   "mimetype": "text/x-python",
   "name": "python",
   "nbconvert_exporter": "python",
   "pygments_lexer": "ipython3",
   "version": "3.5.3"
  },
  "toc": {
   "colors": {
    "hover_highlight": "#DAA520",
    "navigate_num": "#000000",
    "navigate_text": "#333333",
    "running_highlight": "#FF0000",
    "selected_highlight": "#FFD700",
    "sidebar_border": "#EEEEEE",
    "wrapper_background": "#FFFFFF"
   },
   "moveMenuLeft": true,
   "nav_menu": {
    "height": "383px",
    "width": "252px"
   },
   "navigate_menu": true,
   "number_sections": true,
   "sideBar": true,
   "threshold": 4,
   "toc_cell": false,
   "toc_section_display": "block",
   "toc_window_display": false,
   "widenNotebook": false
  }
 },
 "nbformat": 4,
 "nbformat_minor": 1
}
